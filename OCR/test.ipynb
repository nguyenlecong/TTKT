{
 "cells": [
  {
   "cell_type": "code",
   "execution_count": 1,
   "metadata": {},
   "outputs": [],
   "source": [
    "import cv2\n",
    "from utils import display_cv2_image_mat\n",
    "from backend.preprocess import straighten_image\n",
    "from backend.table import *\n",
    "os.environ[\"EASYOCR_MODULE_PATH\"] = \"backend/EasyOCR\"\n",
    "from backend.EasyOCR.easyocr import Reader\n",
    "import torch\n",
    "import sys\n",
    "import math\n",
    "# from backend.EasyOCR import reader"
   ]
  },
  {
   "cell_type": "code",
   "execution_count": 2,
   "metadata": {},
   "outputs": [
    {
     "output_type": "stream",
     "name": "stdout",
     "text": [
      "1590000\n"
     ]
    }
   ],
   "source": [
    "image = cv2.imread(\"sample/medium.png\")\n",
    "img_size = image.size\n",
    "print(img_size)"
   ]
  },
  {
   "cell_type": "code",
   "execution_count": 3,
   "metadata": {},
   "outputs": [
    {
     "output_type": "execute_result",
     "data": {
      "text/plain": [
       "0"
      ]
     },
     "metadata": {},
     "execution_count": 3
    }
   ],
   "source": [
    "#Clear cache, expect 0, if not 0, restart workbook for accurate result\n",
    "torch.cuda.empty_cache()\n",
    "torch.cuda.memory_allocated() # bộ nhớ được phân bổ ban đầu = 0"
   ]
  },
  {
   "cell_type": "code",
   "execution_count": 4,
   "metadata": {},
   "outputs": [
    {
     "output_type": "stream",
     "name": "stdout",
     "text": [
      "net 84978176\n",
      "model 307272192\n",
      "307272192\n"
     ]
    }
   ],
   "source": [
    "#model  = 307272192 B, sum of JA and EN model\n",
    "EASYOCR_READER = Reader(['ja','en'], gpu=True)\n",
    "model_memory = torch.cuda.memory_allocated() # bộ nhớ được phân bổ cho mô hình\n",
    "print(model_memory)"
   ]
  },
  {
   "cell_type": "code",
   "execution_count": 5,
   "metadata": {},
   "outputs": [],
   "source": [
    "# Parameter\n",
    "decoder = 'greedy'\n",
    "beamWidth= 5\n",
    "workers = 0\n",
    "allowlist = None\n",
    "blocklist = None\n",
    "detail = 1,\n",
    "paragraph = False\n",
    "min_size = 20\n",
    "contrast_ths = 0.1\n",
    "adjust_contrast = 0.5\n",
    "filter_ths = 0.003,\n",
    "text_threshold = 0.7\n",
    "low_text = 0.4\n",
    "link_threshold = 0.4\n",
    "canvas_size = 2560\n",
    "mag_ratio = 1.\n",
    "slope_ths = 0.1\n",
    "ycenter_ths = 0.5\n",
    "height_ths = 0.5\n",
    "width_ths = 0.5\n",
    "add_margin = 0.1"
   ]
  },
  {
   "cell_type": "code",
   "execution_count": 6,
   "metadata": {},
   "outputs": [],
   "source": [
    "from backend.EasyOCR.utils import reformat_input\n",
    "img, img_cv_grey = reformat_input(image)"
   ]
  },
  {
   "cell_type": "code",
   "execution_count": 7,
   "metadata": {},
   "outputs": [
    {
     "output_type": "stream",
     "name": "stdout",
     "text": [
      "test_net 334127616\n",
      "307272192\n",
      "0\n"
     ]
    }
   ],
   "source": [
    "horizontal_list, free_list = EASYOCR_READER.detect(img, min_size, text_threshold,\\\n",
    "                                                 low_text, link_threshold,\\\n",
    "                                                 canvas_size, mag_ratio,\\\n",
    "                                                 slope_ths, ycenter_ths,\\\n",
    "                                                 height_ths,width_ths,\\\n",
    "                                                 add_margin, False)\n",
    "x = torch.cuda.memory_allocated()\n",
    "print(x)\n",
    "bound_memory = x - model_memory\n",
    "print(bound_memory)\n",
    "# Bounds is stored in ram, and doesn't use GPU memory"
   ]
  },
  {
   "cell_type": "code",
   "execution_count": 8,
   "metadata": {},
   "outputs": [
    {
     "output_type": "stream",
     "name": "stdout",
     "text": [
      "33\n"
     ]
    }
   ],
   "source": [
    "#number of payload to load into network\n",
    "payload = len(horizontal_list) + len(free_list)\n",
    "print(payload) # =len(result)"
   ]
  },
  {
   "cell_type": "code",
   "execution_count": 9,
   "metadata": {},
   "outputs": [
    {
     "output_type": "stream",
     "name": "stdout",
     "text": [
      "[[39, 399, 19, 39], [45, 146, 63, 89], [215, 323, 67, 87], [382, 450, 64, 88], [549, 597, 67, 85], [885, 976, 65, 91], [1050, 1140, 63, 89], [47, 95, 93, 113], [214, 324, 92, 116], [383, 437, 93, 113], [885, 997, 93, 113], [1053, 1141, 93, 113], [89, 159, 125, 145], [345, 407, 125, 145], [767, 823, 125, 145], [927, 999, 125, 145], [1111, 1149, 125, 145], [214, 358, 152, 176], [951, 975, 155, 175], [1055, 1103, 157, 173], [214, 344, 179, 206], [1053, 1103, 181, 201], [217, 405, 209, 229], [1053, 1103, 209, 229], [214, 358, 233, 258], [1053, 1103, 235, 255], [216, 298, 262, 286], [1053, 1103, 263, 283], [214, 306, 289, 315], [1053, 1103, 291, 311], [555, 601, 345, 365], [951, 973, 347, 365], [1055, 1103, 349, 365]]\n[]\n"
     ]
    }
   ],
   "source": [
    "print(horizontal_list)\n",
    "print(free_list)"
   ]
  },
  {
   "cell_type": "code",
   "execution_count": 10,
   "metadata": {},
   "outputs": [
    {
     "output_type": "stream",
     "name": "stdout",
     "text": [
      "number of expected loops: 5\n",
      "1\n",
      "length_for_pred  32\n",
      "text_for_pred  7424\n",
      "model_size 309639680\n",
      "image_tensors_size 2359296\n",
      "model_output_size 28770528\n",
      "=================================\n",
      "2\n",
      "length_for_pred  32\n",
      "text_for_pred  7424\n",
      "model_size 367230464\n",
      "image_tensors_size 2359296\n",
      "model_output_size 28770528\n",
      "=================================\n",
      "3\n",
      "length_for_pred  32\n",
      "text_for_pred  7424\n",
      "model_size 367230464\n",
      "image_tensors_size 2359296\n",
      "model_output_size 28770528\n",
      "=================================\n",
      "4\n",
      "length_for_pred  32\n",
      "text_for_pred  7424\n",
      "model_size 367230464\n",
      "image_tensors_size 2359296\n",
      "model_output_size 28770528\n",
      "=================================\n",
      "5\n",
      "length_for_pred  4\n",
      "text_for_pred  928\n",
      "model_size 365159424\n",
      "image_tensors_size 294912\n",
      "model_output_size 3596316\n",
      "=================================\n",
      "sum_prob 118678428\n",
      "sum_tensor_size 9732096\n",
      "=================================\n",
      "1\n",
      "length_for_pred  8\n",
      "text_for_pred  1856\n",
      "model_size 307864576\n",
      "image_tensors_size 589824\n",
      "model_output_size 7192632\n",
      "=================================\n",
      "sum_prob 7192632\n",
      "sum_tensor_size 589824\n",
      "=================================\n"
     ]
    }
   ],
   "source": [
    "batch_size =  8\n",
    "loop = math.ceil(payload/batch_size)\n",
    "print(\"number of expected loops:\" ,loop) \n",
    "result = EASYOCR_READER.recognize(img_cv_grey, horizontal_list, free_list,\\\n",
    "                                decoder, beamWidth, batch_size,\\\n",
    "                                workers, allowlist, blocklist, detail,\\\n",
    "                                paragraph, contrast_ths, adjust_contrast,\\\n",
    "                                filter_ths, False)\n",
    "# print(result)\n",
    "# sum_tensor_size đặt ngoài vòng for, được in ra 2 lần => chạy qua hàm recognizer_predict ứng với mỗi lần forward 2 lần dù loop = 1 <= 'predict two round'\n",
    "#309639680"
   ]
  },
  {
   "cell_type": "code",
   "execution_count": 11,
   "metadata": {},
   "outputs": [],
   "source": [
    "max_VGA_need = 367230464\n",
    "model_size = 307272192\n",
    "image_tensor_size = 2359296\n",
    "model_output_size = 28770528"
   ]
  },
  {
   "cell_type": "code",
   "execution_count": 12,
   "metadata": {},
   "outputs": [
    {
     "output_type": "execute_result",
     "data": {
      "text/plain": [
       "-57920"
      ]
     },
     "metadata": {},
     "execution_count": 12
    }
   ],
   "source": [
    "(model_size + image_tensor_size + model_output_size * 2) - max_VGA_need"
   ]
  },
  {
   "cell_type": "code",
   "execution_count": 13,
   "metadata": {},
   "outputs": [
    {
     "output_type": "stream",
     "name": "stdout",
     "text": [
      "125871060\n"
     ]
    }
   ],
   "source": [
    "sum_model_output = 118678428+7192632\n",
    "print(sum_model_output)"
   ]
  },
  {
   "cell_type": "code",
   "execution_count": 14,
   "metadata": {},
   "outputs": [
    {
     "output_type": "stream",
     "name": "stdout",
     "text": [
      "10321920\n"
     ]
    }
   ],
   "source": [
    "sum_tensors_size=9732096+589824\n",
    "print(sum_tensors_size)"
   ]
  },
  {
   "cell_type": "code",
   "execution_count": 15,
   "metadata": {},
   "outputs": [
    {
     "output_type": "execute_result",
     "data": {
      "text/plain": [
       "6.49177358490566"
      ]
     },
     "metadata": {},
     "execution_count": 15
    }
   ],
   "source": [
    "sum_tensors_size/img_size"
   ]
  },
  {
   "cell_type": "code",
   "execution_count": 16,
   "metadata": {},
   "outputs": [
    {
     "output_type": "execute_result",
     "data": {
      "text/plain": [
       "12.194539388020834"
      ]
     },
     "metadata": {},
     "execution_count": 16
    }
   ],
   "source": [
    "model_output_size/image_tensor_size"
   ]
  },
  {
   "cell_type": "code",
   "execution_count": 17,
   "metadata": {},
   "outputs": [
    {
     "output_type": "execute_result",
     "data": {
      "text/plain": [
       "'\\n    image_tensor_size = img_size * 6 / loop\\n    model_output_size = image_tensor_size * 12 = img_size * 72 / loop\\n'"
      ]
     },
     "metadata": {},
     "execution_count": 17
    }
   ],
   "source": [
    "\"\"\"\n",
    "    image_tensor_size = img_size * 6 / loop\n",
    "    model_output_size = image_tensor_size * 12 = img_size * 72 / loop\n",
    "\"\"\""
   ]
  },
  {
   "cell_type": "code",
   "execution_count": 18,
   "metadata": {},
   "outputs": [
    {
     "output_type": "execute_result",
     "data": {
      "text/plain": [
       "'\\n    max_VGA_need    = model_size + image_tensor_size + model_output_size*2\\n                    = 307272192 + (img_size*6 + img_size*72*2)/loop\\n                    = 307272192 + img_size*150/loop\\n                    = 307272192 + img_size*150/(payload/batch_size)\\n                    = 307272192 + img_size*150*batch_size/payload\\n'"
      ]
     },
     "metadata": {},
     "execution_count": 18
    }
   ],
   "source": [
    "\"\"\"\n",
    "    max_VGA_need    = model_size + image_tensor_size + model_output_size*2\n",
    "                    = 307272192 + (img_size*6 + img_size*72*2)/loop\n",
    "                    = 307272192 + img_size*150/loop\n",
    "                    = 307272192 + img_size*150/(payload/batch_size)\n",
    "                    = 307272192 + img_size*150*batch_size/payload\n",
    "\"\"\""
   ]
  },
  {
   "cell_type": "code",
   "execution_count": 19,
   "metadata": {},
   "outputs": [
    {
     "output_type": "execute_result",
     "data": {
      "text/plain": [
       "3641728.0"
      ]
     },
     "metadata": {},
     "execution_count": 19
    }
   ],
   "source": [
    "(307272192+1590000*150*4/15)-367230464"
   ]
  },
  {
   "cell_type": "code",
   "execution_count": 20,
   "metadata": {},
   "outputs": [
    {
     "output_type": "stream",
     "name": "stdout",
     "text": [
      "Fri Dec 18 10:42:59 2020       \n+-----------------------------------------------------------------------------+\n| NVIDIA-SMI 451.67       Driver Version: 451.67       CUDA Version: 11.0     |\n|-------------------------------+----------------------+----------------------+\n| GPU  Name            TCC/WDDM | Bus-Id        Disp.A | Volatile Uncorr. ECC |\n| Fan  Temp  Perf  Pwr:Usage/Cap|         Memory-Usage | GPU-Util  Compute M. |\n|===============================+======================+======================|\n|   0  GeForce MX150      WDDM  | 00000000:01:00.0 Off |                  N/A |\n| N/A   61C    P0    N/A /  N/A |   1697MiB /  2048MiB |      0%      Default |\n+-------------------------------+----------------------+----------------------+\n                                                                               \n+-----------------------------------------------------------------------------+\n| Processes:                                                                  |\n|  GPU   GI   CI        PID   Type   Process name                  GPU Memory |\n|        ID   ID                                                   Usage      |\n|=============================================================================|\n|    0   N/A  N/A      1392      C   ...ython\\Python37\\python.exe    N/A      |\n+-----------------------------------------------------------------------------+\n"
     ]
    }
   ],
   "source": [
    "!nvidia-smi"
   ]
  },
  {
   "cell_type": "code",
   "execution_count": 21,
   "metadata": {},
   "outputs": [
    {
     "output_type": "stream",
     "name": "stdout",
     "text": [
      "2147483648\n"
     ]
    }
   ],
   "source": [
    "GPU_memory = 2048*1048576\n",
    "print(GPU_memory)"
   ]
  },
  {
   "cell_type": "code",
   "execution_count": 22,
   "metadata": {},
   "outputs": [
    {
     "output_type": "execute_result",
     "data": {
      "text/plain": [
       "2147483648"
      ]
     },
     "metadata": {},
     "execution_count": 22
    }
   ],
   "source": [
    "torch.cuda.get_device_properties(0).total_memory"
   ]
  },
  {
   "cell_type": "code",
   "execution_count": 23,
   "metadata": {},
   "outputs": [],
   "source": [
    "max_VGA_need = 322265088"
   ]
  },
  {
   "cell_type": "code",
   "execution_count": 24,
   "metadata": {},
   "outputs": [
    {
     "output_type": "stream",
     "name": "stdout",
     "text": [
      "6.663717938941\n"
     ]
    }
   ],
   "source": [
    "loop = GPU_memory/max_VGA_need\n",
    "print(loop)"
   ]
  },
  {
   "cell_type": "code",
   "execution_count": 25,
   "metadata": {},
   "outputs": [
    {
     "output_type": "stream",
     "name": "stdout",
     "text": [
      "5.311717754430969\n"
     ]
    }
   ],
   "source": [
    "batch_size = 307272192*payload/(GPU_memory-150*img_size)\n",
    "print(batch_size)"
   ]
  },
  {
   "cell_type": "code",
   "execution_count": 26,
   "metadata": {},
   "outputs": [],
   "source": [
    "del EASYOCR_READER"
   ]
  }
 ],
 "metadata": {
  "kernelspec": {
   "name": "python3",
   "display_name": "Python 3.7.6 64-bit",
   "metadata": {
    "interpreter": {
     "hash": "2e7551559daae743fd5a6b2b4bfe97d8cf6c753cb1c0fa8928f6e7ddcebdb42f"
    }
   }
  },
  "language_info": {
   "codemirror_mode": {
    "name": "ipython",
    "version": 3
   },
   "file_extension": ".py",
   "mimetype": "text/x-python",
   "name": "python",
   "nbconvert_exporter": "python",
   "pygments_lexer": "ipython3",
   "version": "3.7.6-final"
  }
 },
 "nbformat": 4,
 "nbformat_minor": 4
}